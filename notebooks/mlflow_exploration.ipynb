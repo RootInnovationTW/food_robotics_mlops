{
 "cells": [
  {
   "cell_type": "markdown",
   "metadata": {},
   "source": [
    "# Food Robotics MLflow Exploration\n",
    "Interactive exploration of MLflow features for food robotics"
   ]
  },
  {
   "cell_type": "code",
   "execution_count": null,
   "metadata": {},
   "outputs": [],
   "source": [
    "import mlflow\n",
    "import pandas as pd\n",
    "from food_robotics.mlflow import setup_tracking\n",
    "\n",
    "# 設置MLflow追蹤\n",
    "setup_tracking()"
   ]
  }
 ],
 "metadata": {
  "kernelspec": {
   "display_name": "Python 3",
   "language": "python",
   "name": "python3"
  }
 },
 "nbformat": 4,
 "nbformat_minor": 4
}
